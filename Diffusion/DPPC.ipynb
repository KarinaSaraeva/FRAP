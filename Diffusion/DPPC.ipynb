{
 "cells": [
  {
   "cell_type": "code",
   "execution_count": 8,
   "id": "c95eefb4",
   "metadata": {},
   "outputs": [],
   "source": [
    "import matplotlib\n",
    "matplotlib.use('Qt5Agg')\n",
    "%matplotlib qt5"
   ]
  },
  {
   "cell_type": "code",
   "execution_count": 9,
   "id": "7aee959e",
   "metadata": {},
   "outputs": [],
   "source": [
    "import time\n",
    "import os\n",
    "import numpy as np\n",
    "import pandas as pd\n",
    "from PIL import Image\n",
    "from matplotlib import pyplot as plt\n",
    "import imageio\n",
    "from matplotlib import cm\n",
    "import matplotlib.pyplot as plt\n",
    "import matplotlib.animation as animation\n",
    "from IPython.display import HTML\n",
    "\n",
    "\n",
    "from FRAP_Data import FRAP_Data\n",
    "from Fricks_Law import COASRE, FIT, ADI"
   ]
  },
  {
   "cell_type": "code",
   "execution_count": null,
   "id": "bd501c66",
   "metadata": {},
   "outputs": [],
   "source": [
    "# dir_name2 = 'D:/04 ИАЭ/FRAP/imagesData/imagesDPPC/DPPC-Rhod(T42)/'"
   ]
  },
  {
   "cell_type": "code",
   "execution_count": null,
   "id": "ac0aa5bf",
   "metadata": {},
   "outputs": [],
   "source": [
    "# dir_name = 'D:/04 ИАЭ/FRAP/imagesData/images 7.10/'  #'D:/04 ИАЭ/FRAP/imagesData/images 7.10/' #'D:/04 ИАЭ/FRAP/processed/7.10/images_corrected/'"
   ]
  },
  {
   "cell_type": "code",
   "execution_count": 10,
   "id": "89bf6a24",
   "metadata": {},
   "outputs": [],
   "source": [
    "dir_name1 = 'images/DPPC-Rhod(T42)'\n",
    "dir_name2 = 'images/DPPC-Rhod(T42)processed'"
   ]
  },
  {
   "cell_type": "code",
   "execution_count": 11,
   "id": "caa429e5",
   "metadata": {},
   "outputs": [],
   "source": [
    "FRAP = FRAP_Data('FRAP', dir_name1)"
   ]
  },
  {
   "cell_type": "code",
   "execution_count": 12,
   "id": "ee3d5307",
   "metadata": {},
   "outputs": [],
   "source": [
    "FRAP.cut(300, 125, 850, 600, dir_name2)"
   ]
  },
  {
   "cell_type": "code",
   "execution_count": 14,
   "id": "5c0aec13",
   "metadata": {},
   "outputs": [],
   "source": [
    "FRAP2 = FRAP_Data('FRAP2', dir_name2)"
   ]
  },
  {
   "cell_type": "code",
   "execution_count": 26,
   "id": "63d51d2b",
   "metadata": {},
   "outputs": [],
   "source": [
    "FRAP2.find_ROI(1.5)"
   ]
  },
  {
   "cell_type": "code",
   "execution_count": 27,
   "id": "418fa63a",
   "metadata": {},
   "outputs": [
    {
     "name": "stdout",
     "output_type": "stream",
     "text": [
      "[197.77701477219287, 269.4532198147054]\n",
      "43.204417417159696\n",
      "133\n",
      "261\n",
      "205\n",
      "333\n",
      "(128, 128)\n"
     ]
    }
   ],
   "source": [
    "print(FRAP2.center)\n",
    "print(FRAP2.width)\n",
    "print(FRAP2.x1)\n",
    "print(FRAP2.x2)\n",
    "print(FRAP2.y1)\n",
    "print(FRAP2.y2)\n",
    "print(FRAP2.spot_im.shape)\n"
   ]
  },
  {
   "cell_type": "code",
   "execution_count": 28,
   "id": "dd7f83a6",
   "metadata": {},
   "outputs": [],
   "source": [
    "# print(FRAP1.spot_im.shape)"
   ]
  },
  {
   "cell_type": "code",
   "execution_count": 29,
   "id": "d66f1f27",
   "metadata": {},
   "outputs": [],
   "source": [
    "FRAP2.drawROI()"
   ]
  },
  {
   "cell_type": "code",
   "execution_count": 30,
   "id": "e33f0e78",
   "metadata": {},
   "outputs": [
    {
     "name": "stdout",
     "output_type": "stream",
     "text": [
      "the first is 1 .png\n",
      "the last picture is: 1401 .png\n"
     ]
    }
   ],
   "source": [
    "FRAP2.find_grid(100, 2798)\n",
    "FRAP2.flow() #possible flow correction"
   ]
  },
  {
   "cell_type": "code",
   "execution_count": 33,
   "id": "5f16fccb",
   "metadata": {},
   "outputs": [],
   "source": [
    "def draw_surface(y_grid, x_grid, Z):\n",
    "    fig, ax = plt.subplots(subplot_kw={\"projection\": \"3d\"})\n",
    "    X, Y = np.meshgrid(x_grid, y_grid)\n",
    "    surf = ax.plot_surface(X, Y, Z, cmap=cm.coolwarm, linewidth=0, antialiased=False)\n",
    "    \n",
    "draw_surface(FRAP2.y_grid, FRAP2.x_grid, FRAP2.gau)\n",
    "plt.show() #gaussian approximation\n",
    "\n",
    "draw_surface(FRAP2.y_grid, FRAP2.x_grid, FRAP2.spot_im)\n",
    "plt.show() #real data"
   ]
  },
  {
   "cell_type": "code",
   "execution_count": null,
   "id": "fd46e095",
   "metadata": {},
   "outputs": [],
   "source": [
    "# len(FRAP1.x_grid)"
   ]
  },
  {
   "cell_type": "code",
   "execution_count": null,
   "id": "224a5580",
   "metadata": {},
   "outputs": [],
   "source": [
    "# D_arr = np.linspace(0.6, 0.7, 3)\n",
    "# a = time.time()\n",
    "# rms_arr = COASRE(dx, dt, 3, D_arr, FRAP1)\n",
    "# print(time.time() - a)"
   ]
  },
  {
   "cell_type": "code",
   "execution_count": 35,
   "id": "e3337e46",
   "metadata": {},
   "outputs": [
    {
     "data": {
      "text/plain": [
       "100"
      ]
     },
     "execution_count": 35,
     "metadata": {},
     "output_type": "execute_result"
    }
   ],
   "source": [
    "len(FRAP2.t_grid)"
   ]
  },
  {
   "cell_type": "code",
   "execution_count": null,
   "id": "3b6b5675",
   "metadata": {},
   "outputs": [],
   "source": [
    "# from numpy import unravel_index\n",
    "# unravel_index(mask.argmax(), mask.shape)\n",
    "# plt.matshow(mask[:450,:], cmap=plt.cm.gray)\n",
    "# plt.show()"
   ]
  },
  {
   "cell_type": "code",
   "execution_count": null,
   "id": "b4e7487e",
   "metadata": {},
   "outputs": [],
   "source": [
    "# FRAP1 = FRAP_Data('FRAP1', dir_name, 1712) #316 gor DOPC\n",
    "# FRAP1.find_grid_corrected(200)\n",
    "# FRAP1.read_corrected()"
   ]
  },
  {
   "cell_type": "code",
   "execution_count": 37,
   "id": "a1d1343c",
   "metadata": {},
   "outputs": [
    {
     "name": "stdout",
     "output_type": "stream",
     "text": [
      "[0.04137137 0.04653749 0.04942918 0.05147195 0.05310398 0.05449737\n",
      " 0.05573855 0.05687718 0.05794437 0.05896081]\n"
     ]
    }
   ],
   "source": [
    "dx = FRAP2.x_grid[1] - FRAP2.x_grid[0]\n",
    "dt = FRAP2.t_grid[1] - FRAP2.t_grid[0]\n",
    "D_arr = np.linspace(0, 0.01, 10)\n",
    "rms_arr = COASRE(dx, dt, 10, D_arr, FRAP2)"
   ]
  },
  {
   "cell_type": "code",
   "execution_count": 38,
   "id": "e21bb6e9",
   "metadata": {},
   "outputs": [
    {
     "data": {
      "text/html": [
       "<div>\n",
       "<style scoped>\n",
       "    .dataframe tbody tr th:only-of-type {\n",
       "        vertical-align: middle;\n",
       "    }\n",
       "\n",
       "    .dataframe tbody tr th {\n",
       "        vertical-align: top;\n",
       "    }\n",
       "\n",
       "    .dataframe thead th {\n",
       "        text-align: right;\n",
       "    }\n",
       "</style>\n",
       "<table border=\"1\" class=\"dataframe\">\n",
       "  <thead>\n",
       "    <tr style=\"text-align: right;\">\n",
       "      <th></th>\n",
       "      <th>0</th>\n",
       "    </tr>\n",
       "  </thead>\n",
       "  <tbody>\n",
       "    <tr>\n",
       "      <th>0.000000</th>\n",
       "      <td>0.041371</td>\n",
       "    </tr>\n",
       "    <tr>\n",
       "      <th>0.001111</th>\n",
       "      <td>0.046537</td>\n",
       "    </tr>\n",
       "    <tr>\n",
       "      <th>0.002222</th>\n",
       "      <td>0.049429</td>\n",
       "    </tr>\n",
       "    <tr>\n",
       "      <th>0.003333</th>\n",
       "      <td>0.051472</td>\n",
       "    </tr>\n",
       "    <tr>\n",
       "      <th>0.004444</th>\n",
       "      <td>0.053104</td>\n",
       "    </tr>\n",
       "    <tr>\n",
       "      <th>0.005556</th>\n",
       "      <td>0.054497</td>\n",
       "    </tr>\n",
       "    <tr>\n",
       "      <th>0.006667</th>\n",
       "      <td>0.055739</td>\n",
       "    </tr>\n",
       "    <tr>\n",
       "      <th>0.007778</th>\n",
       "      <td>0.056877</td>\n",
       "    </tr>\n",
       "    <tr>\n",
       "      <th>0.008889</th>\n",
       "      <td>0.057944</td>\n",
       "    </tr>\n",
       "    <tr>\n",
       "      <th>0.010000</th>\n",
       "      <td>0.058961</td>\n",
       "    </tr>\n",
       "  </tbody>\n",
       "</table>\n",
       "</div>"
      ],
      "text/plain": [
       "                 0\n",
       "0.000000  0.041371\n",
       "0.001111  0.046537\n",
       "0.002222  0.049429\n",
       "0.003333  0.051472\n",
       "0.004444  0.053104\n",
       "0.005556  0.054497\n",
       "0.006667  0.055739\n",
       "0.007778  0.056877\n",
       "0.008889  0.057944\n",
       "0.010000  0.058961"
      ]
     },
     "execution_count": 38,
     "metadata": {},
     "output_type": "execute_result"
    }
   ],
   "source": [
    "import pandas as pd\n",
    "df = pd.DataFrame(rms_arr , D_arr)\n",
    "df"
   ]
  },
  {
   "cell_type": "code",
   "execution_count": null,
   "id": "e5200197",
   "metadata": {},
   "outputs": [],
   "source": [
    "# FRAP = FRAP_Data('FRAP', dir_name, 1712)\n",
    "# FRAP.find_grid_corrected(100)\n",
    "# FRAP.read_corrected()\n"
   ]
  },
  {
   "cell_type": "code",
   "execution_count": null,
   "id": "9276441f",
   "metadata": {},
   "outputs": [],
   "source": [
    "def draw_animation(y_grid, x_grid, Z_full):\n",
    "    fnb = np.size(Z_full, axis=0)\n",
    "    fps = 10\n",
    "\n",
    "    fig = plt.figure()\n",
    "    ax = fig.add_subplot(111, projection='3d')\n",
    "    X, Y = np.meshgrid(x_grid, y_grid)\n",
    "    plot = [ax.plot_surface(X, Y, Z_full[0, :, :], color='0.75', rstride=1, cstride=1)]\n",
    "    ax.set_zlim(0, 0.8)\n",
    "    text = [ax.text2D(0.05, 0.95, 'start', transform=ax.transAxes)]\n",
    "    \n",
    "    def update_plot(frame_number, zarray, plot, text):\n",
    "        text[0].remove()\n",
    "        plot[0].remove()\n",
    "        plot[0] = ax.plot_surface(X, Y, zarray[frame_number, :, :], cmap=\"magma\")\n",
    "        text[0] = ax.text2D(0.05, 0.95, str(FRAP1.t_grid[frame_number]), transform=ax.transAxes)\n",
    "        \n",
    "        \n",
    "\n",
    "    ani = animation.FuncAnimation(fig, update_plot, fnb, fargs=(Z_full, plot, text), interval=1000 / fps)\n",
    "    return ani"
   ]
  },
  {
   "cell_type": "code",
   "execution_count": null,
   "id": "a6742663",
   "metadata": {},
   "outputs": [],
   "source": [
    "from IPython.display import HTML\n",
    "ani = draw_animation(FRAP2.y_grid, FRAP2.x_grid, FRAP2.arr).to_html5_video()\n",
    "HTML(ani)"
   ]
  },
  {
   "cell_type": "code",
   "execution_count": null,
   "id": "0f0256fd",
   "metadata": {},
   "outputs": [],
   "source": [
    "dx = FRAP1.x_grid[1] - FRAP1.x_grid[0]\n",
    "dt = FRAP1.t_grid[1] - FRAP1.t_grid[0]\n",
    "u = ADI(dx, dt, 74, 134, FRAP1)"
   ]
  },
  {
   "cell_type": "code",
   "execution_count": null,
   "id": "05fb7390",
   "metadata": {
    "scrolled": true
   },
   "outputs": [],
   "source": [
    "ani = draw_animation(FRAP1.y_grid, FRAP1.x_grid, u).to_html5_video()\n",
    "HTML(ani)"
   ]
  },
  {
   "cell_type": "code",
   "execution_count": null,
   "id": "35d08e20",
   "metadata": {},
   "outputs": [],
   "source": [
    "FRAP1.multi_spot_gauss('C:/Users/Karin/Downloads/new.scv')"
   ]
  },
  {
   "cell_type": "code",
   "execution_count": null,
   "id": "39b7a6d7",
   "metadata": {},
   "outputs": [],
   "source": [
    "# plt.matshow(FRAP1.arr[11][:,:], cmap=plt.cm.gray)\n",
    "# plt.show()\n",
    "# plt.matshow(FRAP1.arr[12][:,:], cmap=plt.cm.gray)\n",
    "# plt.show()\n",
    "# plt.matshow(, cmap=plt.cm.gray)\n",
    "# plt.show()\n",
    "# plt.matshow(FRAP1.arr[14][:,:], cmap=plt.cm.gray)\n",
    "# plt.show()\n",
    "\n",
    "def draw_surface(y_grid, x_grid, Z):\n",
    "    fig, ax = plt.subplots(subplot_kw={\"projection\": \"3d\"})\n",
    "    X, Y = np.meshgrid(x_grid, y_grid)\n",
    "    surf = ax.plot_surface(X, Y, Z, cmap=cm.coolwarm, linewidth=0, antialiased=False)"
   ]
  }
 ],
 "metadata": {
  "kernelspec": {
   "display_name": "Python 3",
   "language": "python",
   "name": "python3"
  },
  "language_info": {
   "codemirror_mode": {
    "name": "ipython",
    "version": 3
   },
   "file_extension": ".py",
   "mimetype": "text/x-python",
   "name": "python",
   "nbconvert_exporter": "python",
   "pygments_lexer": "ipython3",
   "version": "3.8.8"
  }
 },
 "nbformat": 4,
 "nbformat_minor": 5
}
